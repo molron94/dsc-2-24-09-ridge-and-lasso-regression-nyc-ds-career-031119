{
 "cells": [
  {
   "cell_type": "markdown",
   "metadata": {},
   "source": [
    "# Ridge and Lasso Regression"
   ]
  },
  {
   "cell_type": "markdown",
   "metadata": {},
   "source": [
    "## Introduction"
   ]
  },
  {
   "cell_type": "markdown",
   "metadata": {},
   "source": [
    "At this point we've seen a number of criteria and algorithms for fitting regression models to data. We've seen the simple linear regression using ordinary least squares, and its more general regression of polynomial functions. We've also seen how we can overfit models to data using polynomials and interactions. With all of that, we began to explore other tools to analyze this general problem of overfitting versus underfitting, all this using train and test splits, bias and variance, and cross validation.\n",
    "\n",
    "Now we're going to take a look at another way to tune our models. These methods all modify our mean squared error function that we were optimizing against. The modifications will add a penalty for large coefficient weights in our resulting model."
   ]
  },
  {
   "cell_type": "markdown",
   "metadata": {},
   "source": [
    "## Objectives"
   ]
  },
  {
   "cell_type": "markdown",
   "metadata": {},
   "source": [
    "You will be able to:"
   ]
  },
  {
   "cell_type": "markdown",
   "metadata": {},
   "source": [
    "- Understand what Lasso regression is \n",
    "- Understand what Ridge regression is\n",
    "- Compare and contrast Lasso and Ridge regression \n",
    "- Understand that both Lasso and Ridge regression can be used to counter multicollinearity"
   ]
  },
  {
   "cell_type": "markdown",
   "metadata": {},
   "source": [
    "## Our regression cost function"
   ]
  },
  {
   "cell_type": "markdown",
   "metadata": {},
   "source": [
    "From previously, you know that when solving for a linear regression, you can express the cost function as\n",
    "\n",
    "$$ \\text{cost_function}= \\sum_{i=1}^n(y_i - \\hat{y})^2 = \\sum_{i=1}^n(y_i - (mx_i + b))^2$$\n",
    "\n",
    "This is the expression for simple linear regression (for 1 predictor $x$). If you have multiple predictors, you would have something that looks like:\n",
    "\n",
    "$$ \\text{cost_function}= \\sum_{i=1}^n(y_i - \\hat{y})^2 = \\sum_{i=1}^n(y_i - \\sum_{j=1}^k(m_jx_{ij} + b))^2$$\n",
    "\n",
    "where $k$ is the number of predictors."
   ]
  },
  {
   "cell_type": "markdown",
   "metadata": {},
   "source": [
    "## Penalized estimation"
   ]
  },
  {
   "cell_type": "markdown",
   "metadata": {},
   "source": [
    "You've seen that when the number of predictors increases, your model complexity increases, with a higher chance of overfitting as a result. We've previously seen fairly ad-hoc variable selection methods (such as forward/backward selection), to simply select a few variables from a longer list of variables as predictors. \n",
    "\n",
    "Now, instead of completely \"deleting\" certain predictors from a model (which is equal to setting coefficients equal to zero), wouldn't it be interesting so-called *penalized estimation* operates in way where parameter shrinkage effets are used to make some or \n",
    "all of the coefficients smaller in magnitude, closer to zero. Some of the penalties have the property to perform both variable selection (setting some coefficients exactly equal to zero) and shrinking the other coefficients. Ridge and Lasso regression are two examples of penalized estimation. There are multiple advantages to using these methods:\n",
    "\n",
    "- They reduce model complexity\n",
    "- The may prevent from overfitting\n",
    "- Some of them may perform variable selection at the same time (when coefficients are set to 0)\n",
    "- They can be used to counter multicollinearity\n",
    "\n",
    "Lasso and Ridge are two commonly used so-called **regularization techniques**. Regularization is a general term used when one tries to battle overfitting. Regularization techniques will be covered in more depth when we're moving into machine learning!"
   ]
  },
  {
   "cell_type": "markdown",
   "metadata": {},
   "source": [
    "## Ridge regression"
   ]
  },
  {
   "cell_type": "markdown",
   "metadata": {},
   "source": [
    "In ridge regression, the linear regression cost function is changed by adding a penalty term to square of the magnitude of the coefficients."
   ]
  },
  {
   "cell_type": "markdown",
   "metadata": {},
   "source": [
    "$$ \\text{cost_function_ridge}= \\sum_{i=1}^n(y_i - \\hat{y})^2 = \\sum_{i=1}^n(y_i - \\sum_{j=1}^k(m_jx_{ij} + b))^2 + \\lambda \\sum_{j=1}^p m_j^2$$"
   ]
  },
  {
   "cell_type": "markdown",
   "metadata": {},
   "source": [
    "Recall that you want to minimize your cost function, so by adding the penalty term $\\lambda$, ridge regression puts a constraint on the coefficients $m$. This means that large coefficients penalize the optimization function. That's why ridge regression leads to a shrinkage of the coefficients and helps to reduce model complexity and multi-collinearity.\n"
   ]
  },
  {
   "cell_type": "markdown",
   "metadata": {},
   "source": [
    "$\\lambda$ is a so-called *hyperparameter*, which means you have to specify the value for lamda. For a small lambda, the outcome of your ridge regression will resemble a linear regression model. For large lambda, penalization will increase and more parameters will shrink.\n",
    "\n",
    "Ridge regression is often also referred to as **L2 Norm Regularization**\n"
   ]
  },
  {
   "cell_type": "markdown",
   "metadata": {},
   "source": [
    "## Lasso regression"
   ]
  },
  {
   "cell_type": "markdown",
   "metadata": {},
   "source": [
    "Lasso regression is very similar to Ridge regression, except that the magnitude of the coefficients are not squared in the penalty term. So, while ridge regression keeps the sum of the squared regression coefficients (except for the intercept) bounded, the lasso method bounds the sum of the absolute values.\n",
    "\n",
    "The resulting cost function looks like this:"
   ]
  },
  {
   "cell_type": "markdown",
   "metadata": {},
   "source": [
    "$$ \\text{cost_function_lasso}= \\sum_{i=1}^n(y_i - \\hat{y})^2 = \\sum_{i=1}^n(y_i - \\sum_{j=1}^k(m_jx_{ij} + b))^2 + \\lambda \\sum_{j=1}^p \\mid m_j \\mid$$"
   ]
  },
  {
   "cell_type": "markdown",
   "metadata": {},
   "source": [
    "The name \"Lasso\" comes from ‘Least Absolute Shrinkage and Selection Operator’.\n",
    "\n",
    "While looking similar to the definition of the ridge estimator, the effect of the absolute values is that some coefficients might be set exactly equal to zero, while other coefficients are shrunk towards zero. Hence the lasso method is attractive because it performs estimation *and* selection simultaneously. Especially for variable selection when the number of predictors is very high."
   ]
  },
  {
   "cell_type": "markdown",
   "metadata": {},
   "source": [
    "Lasso regression is often also referred to as **L1 Norm Regularization**\n"
   ]
  },
  {
   "cell_type": "markdown",
   "metadata": {},
   "source": [
    "## An example using our `auto-mpg` data"
   ]
  },
  {
   "cell_type": "markdown",
   "metadata": {},
   "source": [
    "Let's transform our continuous predictors in `auto-mpg` and see how they perform as predictors in a Ridge versus Lasso regression."
   ]
  },
  {
   "cell_type": "code",
   "execution_count": 2,
   "metadata": {},
   "outputs": [
    {
     "name": "stderr",
     "output_type": "stream",
     "text": [
      "/opt/conda/envs/learn-env/lib/python3.6/site-packages/sklearn/preprocessing/data.py:323: DataConversionWarning: Data with input dtype int64, float64 were all converted to float64 by MinMaxScaler.\n",
      "  return self.partial_fit(X, y)\n"
     ]
    }
   ],
   "source": [
    "#Import lin reg package\n",
    "from sklearn.linear_model import LinearRegression\n",
    "#Import min max scaler from pre processing\n",
    "from sklearn.preprocessing import MinMaxScaler\n",
    "#Import linear model objects for lasso, ridge, lin reg\n",
    "from sklearn.linear_model import Lasso, Ridge, LinearRegression\n",
    "#Import train test splitter\n",
    "from sklearn.model_selection import train_test_split\n",
    "import pandas as pd\n",
    "import numpy as np\n",
    "import matplotlib.pyplot as plt\n",
    "\n",
    "#importing auto mpg data\n",
    "data = pd.read_csv(\"auto-mpg.csv\") \n",
    "#making horsepower int\n",
    "data['horsepower'].astype(str).astype(int)\n",
    "#Target variable\n",
    "y = data[[\"mpg\"]]\n",
    "#Dropping target and some categoricals\n",
    "X = data.drop([\"mpg\", \"car name\", \"origin\"], axis=1)\n",
    "\n",
    "#scale is min max scaler instance\n",
    "scale = MinMaxScaler()\n",
    "\n",
    "#Turn df into array of array transformed\n",
    "transformed = scale.fit_transform(X)\n",
    "\n",
    "#Puts transformed columns back in, with X cols\n",
    "X = pd.DataFrame(transformed, columns = X.columns)"
   ]
  },
  {
   "cell_type": "markdown",
   "metadata": {},
   "source": [
    "Below, we created train-test-splits, and created Ridge, Lasso and Linear regression models"
   ]
  },
  {
   "cell_type": "code",
   "execution_count": 9,
   "metadata": {},
   "outputs": [
    {
     "data": {
      "text/plain": [
       "LinearRegression(copy_X=True, fit_intercept=True, n_jobs=None,\n",
       "         normalize=False)"
      ]
     },
     "execution_count": 9,
     "metadata": {},
     "output_type": "execute_result"
    }
   ],
   "source": [
    "# Perform test train split\n",
    "X_train , X_test, y_train, y_test = train_test_split(X, y, test_size=0.3, random_state=12)\n",
    "\n",
    "# Build a Ridge, Lasso and regular linear regression model. \n",
    "# Note how in scikit learn, the regularization parameter is denoted by alpha (and not lambda)\n",
    "\n",
    "#Alpha is lambda, initialises ridge, lasso, lin reg instnaces\n",
    "\n",
    "#Fits ridge, lasso, lin to training data\n",
    "\n",
    "ridge = Ridge(alpha=0.5)\n",
    "ridge.fit(X_train, y_train)\n",
    "\n",
    "lasso = Lasso(alpha=0.5)\n",
    "lasso.fit(X_train, y_train)\n",
    "\n",
    "lin = LinearRegression()\n",
    "lin.fit(X_train, y_train)"
   ]
  },
  {
   "cell_type": "markdown",
   "metadata": {},
   "source": [
    "Next, let's create predictions for train and test sets."
   ]
  },
  {
   "cell_type": "code",
   "execution_count": 10,
   "metadata": {},
   "outputs": [],
   "source": [
    "# Create preditions for training and test sets\n",
    "y_h_ridge_train = ridge.predict(X_train)\n",
    "y_h_ridge_test = ridge.predict(X_test)\n",
    "\n",
    "y_h_lasso_train = np.reshape(lasso.predict(X_train), (274,1))\n",
    "y_h_lasso_test = np.reshape(lasso.predict(X_test), (118,1))\n",
    "\n",
    "y_h_lin_train = lin.predict(X_train)\n",
    "y_h_lin_test = lin.predict(X_test)"
   ]
  },
  {
   "cell_type": "code",
   "execution_count": 11,
   "metadata": {},
   "outputs": [
    {
     "data": {
      "text/plain": [
       "array([20.33087261, 27.99603543, 21.97324955, 23.43895745, 15.46505448,\n",
       "       21.43009958, 20.11111332, 28.07726009, 21.05995609, 15.40085019,\n",
       "       18.16356842, 15.57881223, 23.97262771, 18.08988442, 22.47137052,\n",
       "       27.25467129, 22.28392877, 21.65632238, 28.0893255 , 18.21161393,\n",
       "       25.03467224, 25.21414223, 20.93995038, 24.6690532 , 28.25823833,\n",
       "       28.32244261, 27.58150928, 27.55091524, 25.33565619, 20.09366185,\n",
       "       24.92931705, 15.68244362, 24.60183271, 21.32151263, 20.21646851,\n",
       "       24.76751378, 17.03116201, 28.22268903, 25.98847026, 26.3948094 ,\n",
       "       28.17098096, 16.32728623, 22.90162464, 27.91200982, 15.56480776,\n",
       "       25.32682282, 15.23603072, 20.21022055, 17.74947307, 25.22060573,\n",
       "       22.22575719, 27.34085121, 26.82441717, 22.29362403, 28.62019481,\n",
       "       17.89210106, 21.09335078, 25.62177407, 16.40570993, 17.38708579,\n",
       "       26.84703945, 24.61460662, 20.5428757 , 28.28042981, 21.30406116,\n",
       "       26.96984611, 15.56847061, 18.22820351, 15.77228639, 17.31232464,\n",
       "       20.8809169 , 27.91804253, 28.32890612, 15.56847032, 26.54002279,\n",
       "       17.2869014 , 26.97997218, 28.65897586, 15.49478662, 17.36748001,\n",
       "       22.17081737, 24.743446  , 21.46435617, 15.80309598, 21.77374269,\n",
       "       20.12016223, 25.10577083, 26.15350528, 17.01500324, 27.19326796,\n",
       "       18.38009596, 25.91737166, 16.21137387, 18.18942246, 27.05710348,\n",
       "       20.98907304, 15.45040366, 24.8597267 , 24.90604841, 25.97769784,\n",
       "       27.23247981, 17.26104737, 28.50385166, 24.51069724, 26.04556468,\n",
       "       28.18994069, 14.99192565, 17.26751088, 26.53032753, 26.01884875,\n",
       "       22.59417718, 26.27437289, 25.73143816, 28.39354121, 15.61069867,\n",
       "       18.15387316, 27.52958566, 14.93763218, 27.70862485, 15.79620137,\n",
       "       15.47388784, 14.96930337, 25.31309635, 16.57160685, 24.81297389,\n",
       "       21.61107782, 20.02256325, 25.7559995 , 20.09064564, 26.7354363 ,\n",
       "       21.39433473, 22.97250768, 22.52631034, 18.07911201, 28.65574411,\n",
       "       15.43639949, 15.59755611, 28.06390227, 27.1480234 , 20.24964796,\n",
       "       28.1612857 , 25.93740854, 21.57552852, 25.55261453, 16.29884679,\n",
       "       20.87531529, 27.05387172, 26.58871466, 22.66247482, 27.30616381,\n",
       "       21.91184622, 28.63958534, 28.6492806 , 21.86940261, 15.7080821 ,\n",
       "       25.46471081, 27.13143383, 17.55513701, 28.17701367, 26.98535853,\n",
       "       23.08906639, 27.81785814, 20.86863623, 25.14498268, 28.20653026,\n",
       "       16.39860007, 17.11841938, 25.07000598, 16.34064404, 20.12404034,\n",
       "       25.18397928, 16.00346444, 17.33386977, 26.82721812, 17.97246412,\n",
       "       15.57687318, 14.73920246, 28.2323843 , 23.60700868, 15.30928392,\n",
       "       21.49861277, 20.7738382 , 22.36752358, 15.53873818, 26.56415332,\n",
       "       25.31885106, 26.91813804, 25.79478055, 26.26058397, 21.294797  ,\n",
       "       22.32594157, 28.39720377, 28.27073455, 28.55555973, 15.94852462,\n",
       "       16.13014921, 27.24900694, 25.80986217, 27.90231456, 25.29730594,\n",
       "       26.82807973, 27.47206043, 23.50359254, 27.53626472, 26.50361189,\n",
       "       21.50356803, 15.86062091, 24.31873103, 27.02801769, 17.23799429,\n",
       "       26.52989673, 26.32500351, 16.1185149 , 25.13658012, 25.23611815,\n",
       "       16.50847972, 28.1257364 , 28.38104499, 27.18120255, 21.55333704,\n",
       "       26.22697372, 25.25421598, 25.92254247, 25.54356561, 27.91157902,\n",
       "       28.28366156, 26.55251901, 27.77261358, 27.2966841 , 26.59453181,\n",
       "       27.56858226, 16.07154683, 18.17283288, 27.42681587, 21.84074763,\n",
       "       27.47119883, 14.81482551, 27.90231456, 23.58761815, 17.17853001,\n",
       "       14.96542526, 27.70576145, 21.12890008, 26.63051191, 26.41183007,\n",
       "       15.6695166 , 25.47893053, 16.40032387, 16.41562074, 21.969587  ,\n",
       "       25.88850142, 27.91524157, 25.16286496, 21.01449598, 21.01557343,\n",
       "       27.7140112 , 15.56782397, 25.29428973, 26.86039727, 26.32952796,\n",
       "       15.76043652, 28.55555973, 15.80977474, 25.3477213 , 25.85359848,\n",
       "       24.99718389, 22.73680517, 27.66596569, 22.30655105, 25.69718157,\n",
       "       28.61496126, 26.87655604, 16.54596807, 29.77968521])"
      ]
     },
     "execution_count": 11,
     "metadata": {},
     "output_type": "execute_result"
    }
   ],
   "source": [
    "lasso.predict(X_train)"
   ]
  },
  {
   "cell_type": "markdown",
   "metadata": {},
   "source": [
    "Look at the RSS for train and test for each of the three models."
   ]
  },
  {
   "cell_type": "code",
   "execution_count": 4,
   "metadata": {},
   "outputs": [
    {
     "name": "stdout",
     "output_type": "stream",
     "text": [
      "Train Error Ridge Model mpg    2688.222824\n",
      "dtype: float64\n",
      "Test Error Ridge Model mpg    2074.197775\n",
      "dtype: float64\n",
      "\n",
      "\n",
      "Train Error Lasso Model mpg    4644.536425\n",
      "dtype: float64\n",
      "Test Error Lasso Model mpg    3696.183375\n",
      "dtype: float64\n",
      "\n",
      "\n",
      "Train Error Unpenalized Linear Model mpg    2658.043444\n",
      "dtype: float64\n",
      "Test Error Unpenalized Linear Model mpg    1976.266987\n",
      "dtype: float64\n"
     ]
    }
   ],
   "source": [
    "print('Train Error Ridge Model', np.sum((y_train - y_h_ridge_train)**2))\n",
    "print('Test Error Ridge Model', np.sum((y_test - y_h_ridge_test)**2))\n",
    "print('\\n')\n",
    "\n",
    "print('Train Error Lasso Model', np.sum((y_train - y_h_lasso_train)**2))\n",
    "print('Test Error Lasso Model', np.sum((y_test - y_h_lasso_test)**2))\n",
    "print('\\n')\n",
    "\n",
    "print('Train Error Unpenalized Linear Model', np.sum((y_train - lin.predict(X_train))**2))\n",
    "print('Test Error Unpenalized Linear Model', np.sum((y_test - lin.predict(X_test))**2))"
   ]
  },
  {
   "cell_type": "markdown",
   "metadata": {},
   "source": [
    "We note that Ridge is clearly better than Lasso here, but that the unpenalized model performs best here. Let's see how including Ridge and Lasso changed our parameter estimates."
   ]
  },
  {
   "cell_type": "code",
   "execution_count": 5,
   "metadata": {},
   "outputs": [
    {
     "name": "stdout",
     "output_type": "stream",
     "text": [
      "Ridge parameter coefficients: [[ -2.11792413  -3.0112953   -1.90579654 -15.60758962  -1.61071692\n",
      "    8.12940111]]\n",
      "Lasso parameter coefficients: [-10.31005725  -0.          -0.          -2.27967948   0.\n",
      "   3.88327477]\n",
      "Linear model parameter coefficients: [[ -1.33790698  -1.05300843  -0.08661412 -20.08143923  -0.39639115\n",
      "    8.56051229]]\n"
     ]
    }
   ],
   "source": [
    "print('Ridge parameter coefficients:', ridge.coef_)\n",
    "print('Lasso parameter coefficients:', lasso.coef_)\n",
    "print('Linear model parameter coefficients:', lin.coef_)"
   ]
  },
  {
   "cell_type": "markdown",
   "metadata": {},
   "source": [
    "You can clearly see how Lasso shrinks certain parameters to 0! The Ridge regression mostly affected the fourth parameter (estimated to be -20.08 for the linear regression model)."
   ]
  },
  {
   "cell_type": "markdown",
   "metadata": {},
   "source": [
    "## Additional reading\n",
    "\n",
    "Full code examples for Ridge and Lasso regression, advantages and disadvantages, and how to code ridge and Lasso in Python can be found [here](https://www.analyticsvidhya.com/blog/2016/01/complete-tutorial-ridge-lasso-regression-python/).\n",
    "\n",
    "Make sure to have a look at the Scikit-Learn documentation for [Ridge](https://scikit-learn.org/stable/modules/generated/sklearn.linear_model.Ridge.html) and [Lasso](https://scikit-learn.org/stable/modules/generated/sklearn.linear_model.Lasso.html).\n"
   ]
  },
  {
   "cell_type": "markdown",
   "metadata": {},
   "source": [
    "## Summary"
   ]
  },
  {
   "cell_type": "markdown",
   "metadata": {},
   "source": [
    "Great! You now know how to perform Lasso and Ridge regression. Let's move on to the lab to explore Lasso and Ridge further!"
   ]
  }
 ],
 "metadata": {
  "kernelspec": {
   "display_name": "Python 3",
   "language": "python",
   "name": "python3"
  },
  "language_info": {
   "codemirror_mode": {
    "name": "ipython",
    "version": 3
   },
   "file_extension": ".py",
   "mimetype": "text/x-python",
   "name": "python",
   "nbconvert_exporter": "python",
   "pygments_lexer": "ipython3",
   "version": "3.6.6"
  }
 },
 "nbformat": 4,
 "nbformat_minor": 2
}
